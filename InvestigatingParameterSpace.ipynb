{
 "cells": [
  {
   "cell_type": "code",
   "execution_count": 1,
   "metadata": {},
   "outputs": [],
   "source": [
    "%matplotlib inline\n",
    "import pandas as pd\n",
    "#import matplotlib as mpl\n",
    "import matplotlib.pyplot as plt\n",
    "from mpl_toolkits.mplot3d import Axes3D # <--- This is important for 3d plotting \n",
    "import seaborn as sns\n",
    "import numpy as np\n",
    "np.set_printoptions(linewidth=200) # Sets message printing width for easier readability"
   ]
  },
  {
   "cell_type": "markdown",
   "metadata": {},
   "source": [
    "## Look at mD, aeff, and mPi1 as a function of fpi and bsmall"
   ]
  },
  {
   "cell_type": "code",
   "execution_count": 2,
   "metadata": {},
   "outputs": [],
   "source": [
    "#-- Define Parameters to scan over --#\n",
    "fpi_num_arr    = np.array([  3,  3.2,  3.4,  3.6,  3.8,  4.]) #np.array([ 2,  3,  4,  5,  6])\n",
    "bsmall_num_arr = np.array([ -2, -2.2, -2.4, -2.6, -2.8, -3.]) #np.array([-2, -3, -4, -5, -6])\n",
    "\n",
    "#-- Define fixed parameters --#\n",
    "gs     = 1e-2\n",
    "asmall = 1e-3\n",
    "sQsq   = 1e-3\n",
    "kappa  = 1"
   ]
  },
  {
   "cell_type": "code",
   "execution_count": 3,
   "metadata": {},
   "outputs": [
    {
     "name": "stdout",
     "output_type": "stream",
     "text": [
      "(6, 6) (6, 6)\n",
      "fpi_num:       [3.  3.2]\n",
      "bsmall_num:    [-2. -2.]\n",
      "m1 [GeV]:      [15791.36704174 25027.63012411]\n",
      "aeff [GeV-2]:  [6.59508699e-07 2.62555142e-07]\n",
      "mD [GeV]:      [125.66370614 199.16355241]\n"
     ]
    }
   ],
   "source": [
    "from m1_aeff import m1_aeff\n",
    "\n",
    "#-- Create grid of fpi_num and bsmall_num values --#\n",
    "fpi_num_mesh, bsmall_num_mesh = np.meshgrid(fpi_num_arr, bsmall_num_arr)\n",
    "print(np.shape(fpi_num_mesh), np.shape(bsmall_num_mesh))\n",
    "\n",
    "param_arr = []\n",
    "\n",
    "for fpi_num, bsmall_num in zip(fpi_num_mesh.reshape(-1), bsmall_num_mesh.reshape(-1)):\n",
    "    \n",
    "    fpi    = 10.**fpi_num\n",
    "    bsmall = 10.**bsmall_num\n",
    "    \n",
    "    kwargs = { \"fpi\":fpi, \"bsmall\":bsmall, \"gs\":gs, \"kappa\":kappa, \"asmall\":asmall, \"sQsq\":sQsq}\n",
    "    m1, aeff, mD = m1_aeff(**kwargs)\n",
    "    \n",
    "    param_arr.append([fpi_num, bsmall_num, gs, asmall, sQsq, kappa, m1, np.real(aeff), mD])\n",
    "\n",
    "param_arr = np.array(param_arr)\n",
    "\n",
    "print(\"fpi_num:      \", param_arr[0:2,0])\n",
    "print(\"bsmall_num:   \", param_arr[0:2,1])\n",
    "print(\"m1 [GeV]:     \", param_arr[0:2,-3])\n",
    "print(\"aeff [GeV-2]: \", param_arr[0:2,-2])\n",
    "print(\"mD [GeV]:     \", param_arr[0:2,-1])\n",
    "\n"
   ]
  },
  {
   "cell_type": "markdown",
   "metadata": {},
   "source": [
    "# Make plots"
   ]
  },
  {
   "cell_type": "code",
   "execution_count": 4,
   "metadata": {},
   "outputs": [],
   "source": [
    "def plotHeatMap(x, y, data, xlabel=r'$log_{10}(f_\\pi/GeV)$', ylabel=r'$log_{10}(b_{small})$', zlabel=r'$a_{eff}$', logZ=True):\n",
    "    \n",
    "    if(logZ and data.min().min() > 0.):\n",
    "        import math\n",
    "        from matplotlib.colors import LogNorm\n",
    "        log_norm = LogNorm(vmin=data.min().min(), vmax=data.max().max())\n",
    "        \n",
    "        cbar_ticks = [math.pow(10, i) for i in range(math.floor(math.log10(data.min().min())), 1+math.ceil(math.log10(data.max().max())))]\n",
    "\n",
    "        sns.heatmap(data, norm=log_norm, cbar_kws={\"ticks\": cbar_ticks, \"label\": zlabel})\n",
    "    else:\n",
    "        heat_map = sns.heatmap(data)\n",
    "        \n",
    "    # Set axis tick values\n",
    "    xticks_labels = x\n",
    "    plt.xticks(np.arange(data.shape[1]) + .5, labels=xticks_labels)\n",
    "\n",
    "    yticks_labels = y\n",
    "    plt.yticks(np.arange(data.shape[0]) + .5, labels=yticks_labels)\n",
    "\n",
    "\n",
    "    # Set axis labels\n",
    "    plt.xlabel(xlabel, fontsize=16)\n",
    "    plt.ylabel(ylabel, fontsize=16)\n",
    "\n",
    "    plt.show()\n"
   ]
  },
  {
   "cell_type": "code",
   "execution_count": 5,
   "metadata": {},
   "outputs": [],
   "source": [
    " d = {\"fpi_num\": param_arr[:,0], \"bsmall_num\": param_arr[:,1], \"gs\": param_arr[:,2], \n",
    "         \"asmall\": param_arr[:,3],  \"sQsq\": param_arr[:,4], \"kappa\": param_arr[:,5],\n",
    "         \"m1\": param_arr[:,6], \"aeff\": param_arr[:,7], \"mD\": param_arr[:,8]}"
   ]
  },
  {
   "cell_type": "code",
   "execution_count": 6,
   "metadata": {},
   "outputs": [
    {
     "data": {
      "image/png": "[encoded data removed]",
      "text/plain": [
       "<Figure size 432x288 with 2 Axes>"
      ]
     },
     "metadata": {
      "needs_background": "light"
     },
     "output_type": "display_data"
    },
    {
     "name": "stdout",
     "output_type": "stream",
     "text": [
      "[[6.59508699e-07 2.62555142e-07 1.04525085e-07 4.16121857e-08 1.65661095e-08 6.59508699e-09]\n",
      " [4.16122352e-07 1.65661292e-07 6.59509483e-08 2.62555454e-08 1.04525209e-08 4.16122352e-09]\n",
      " [2.62555855e-07 1.04525368e-07 4.16122987e-08 1.65661545e-08 6.59510489e-09 2.62555855e-09]\n",
      " [1.65661871e-07 6.59511785e-08 2.62556371e-08 1.04525574e-08 4.16123805e-09 1.65661871e-09]\n",
      " [1.04525840e-07 4.16124864e-08 1.65662292e-08 6.59513464e-09 2.62557039e-09 1.04525840e-09]\n",
      " [6.59515652e-08 2.62557910e-08 1.04526187e-08 4.16126245e-09 1.65662842e-09 6.59515652e-10]]\n"
     ]
    }
   ],
   "source": [
    "x = fpi_num_arr\n",
    "y = bsmall_num_arr\n",
    "Z = d[\"aeff\"]\n",
    "data = Z.reshape(x.shape[0], y.shape[0])\n",
    "\n",
    "plotHeatMap(x, y, data)\n",
    "print(data)"
   ]
  },
  {
   "cell_type": "code",
   "execution_count": 7,
   "metadata": {},
   "outputs": [
    {
     "data": {
      "image/png": "[encoded data removed]",
      "text/plain": [
       "<Figure size 432x288 with 2 Axes>"
      ]
     },
     "metadata": {
      "needs_background": "light"
     },
     "output_type": "display_data"
    },
    {
     "name": "stdout",
     "output_type": "stream",
     "text": [
      "[[ 15791.36704174  25027.63012411  39666.12060714  62866.5645216   99636.7901437  157913.67041743]\n",
      " [ 12543.52870615  19880.15325582  31507.91956023  49936.68721962  79144.31562844 125435.28706151]\n",
      " [  9963.67901437  15791.36704174  25027.63012411  39666.12060714  62866.5645216   99636.7901437 ]\n",
      " [  7914.43156284  12543.52870615  19880.15325582  31507.91956023  49936.68721962  79144.31562844]\n",
      " [  6286.65645216   9963.67901437  15791.36704174  25027.63012411  39666.12060714  62866.5645216 ]\n",
      " [  4993.66872196   7914.43156284  12543.52870615  19880.15325582  31507.91956023  49936.68721962]]\n"
     ]
    }
   ],
   "source": [
    "x = fpi_num_arr\n",
    "y = bsmall_num_arr\n",
    "Z = d[\"m1\"]\n",
    "data = Z.reshape(x.shape[0], y.shape[0])\n",
    "\n",
    "plotHeatMap(x, y, data, zlabel=r'$m_{1,\\Pi}$')\n",
    "print(data)"
   ]
  },
  {
   "cell_type": "code",
   "execution_count": 8,
   "metadata": {},
   "outputs": [
    {
     "data": {
      "image/png": "[encoded data removed]",
      "text/plain": [
       "<Figure size 432x288 with 2 Axes>"
      ]
     },
     "metadata": {
      "needs_background": "light"
     },
     "output_type": "display_data"
    },
    {
     "name": "stdout",
     "output_type": "stream",
     "text": [
      "[[ 125.66370614  199.16355241  315.6529584   500.27622494  792.88438326 1256.63706144]\n",
      " [  79.28843833  125.66370614  199.16355241  315.6529584   500.27622494  792.88438326]\n",
      " [  50.02762249   79.28843833  125.66370614  199.16355241  315.6529584   500.27622494]\n",
      " [  31.56529584   50.02762249   79.28843833  125.66370614  199.16355241  315.6529584 ]\n",
      " [  19.91635524   31.56529584   50.02762249   79.28843833  125.66370614  199.16355241]\n",
      " [  12.56637061   19.91635524   31.56529584   50.02762249   79.28843833  125.66370614]]\n"
     ]
    }
   ],
   "source": [
    "x = fpi_num_arr\n",
    "y = bsmall_num_arr\n",
    "Z = d[\"mD\"]\n",
    "data = Z.reshape(x.shape[0], y.shape[0])\n",
    "\n",
    "plotHeatMap(x, y, data, zlabel=r'$m_{D}$')\n",
    "print(data)"
   ]
  },
  {
   "cell_type": "code",
   "execution_count": null,
   "metadata": {},
   "outputs": [],
   "source": []
  }
 ],
 "metadata": {
  "kernelspec": {
   "display_name": "Python 3",
   "language": "python",
   "name": "python3"
  },
  "language_info": {
   "codemirror_mode": {
    "name": "ipython",
    "version": 3
   },
   "file_extension": ".py",
   "mimetype": "text/x-python",
   "name": "python",
   "nbconvert_exporter": "python",
   "pygments_lexer": "ipython3",
   "version": "3.6.12"
  }
 },
 "nbformat": 4,
 "nbformat_minor": 2
}
