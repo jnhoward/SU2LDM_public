{
 "cells": [
  {
   "cell_type": "markdown",
   "id": "fe17c65e",
   "metadata": {},
   "source": [
    "This notebook demonstrates how to use this code to calculate various quantities for both Ngen=1 and Ngen=3."
   ]
  },
  {
   "cell_type": "code",
   "execution_count": 1,
   "id": "14245b64",
   "metadata": {},
   "outputs": [],
   "source": [
    "import numpy as np\n",
    "import time\n",
    "\n",
    "#-- Change working directory to the main one with omegaH2.py and omegaH2_ulysses.py--#\n",
    "import os\n",
    "#print(os.getcwd())\n",
    "os.chdir('../')\n",
    "#print(os.getcwd())"
   ]
  },
  {
   "cell_type": "markdown",
   "id": "3fe18d13",
   "metadata": {},
   "source": [
    "# Define input variables"
   ]
  },
  {
   "cell_type": "markdown",
   "id": "a996d6f8",
   "metadata": {},
   "source": [
    "The inputs depend on whether you are using omegaH2.py directly or the SU2LDM class defined in omegaH2_ulysses.py. \n",
    "\n",
    "\n",
    "###### For the SU2LDM class defined in omegaH2_ulysses.py:\n",
    "\n",
    "Since the ulysses scan is performed in log(parameters), the inputs here are the powers of the variables. For example for BP1,\n",
    "\n",
    "gs_pow = log(0.8)  $\\Rightarrow$ gs = 10**(gs_pow) = 0.8\n",
    "\n",
    "###### For omegaH2.py directly:\n",
    "\n",
    "Here the variables are their true values. For example, for BP1,\n",
    "\n",
    "gs = 0.8\n",
    "\n",
    "\n",
    "The input variables below match those in data/test.dat and correspond to BP1. #! change in test.dat"
   ]
  },
  {
   "cell_type": "code",
   "execution_count": 2,
   "id": "5ea2342b",
   "metadata": {},
   "outputs": [
    {
     "name": "stdout",
     "output_type": "stream",
     "text": [
      "{'gs': 0.8, 'eQ': 0.5, 'sQsq': 0.3, 'kappa': 1.0, 'fpi': 60000.0, 'bsmall': 0.006631455962162305}\n"
     ]
    }
   ],
   "source": [
    "#-- Define input variables (standard) --#\n",
    "kwargs = {}\n",
    "\n",
    "# Scan parameters \n",
    "kwargs[\"gs\"]     = 0.8\n",
    "kwargs[\"eQ\"]     = 0.5\n",
    "kwargs[\"sQsq\"]   = 0.3\n",
    "kwargs[\"kappa\"]  = 1.\n",
    "\n",
    "kwargs[\"fpi\"]    = 60000. # GeV\n",
    "mDM_GeV          =  5000. # GeV\n",
    "kwargs[\"bsmall\"] = (1./(4.*np.pi*kwargs[\"fpi\"]))*mDM_GeV \n",
    "# bsmall = (1/4*np.pi)(1/fpi)mDM_GeV\n",
    "#mDM = bsmall*lamW = 4*np.pi*bsmall*fpi GeV\n",
    "\n",
    "print(kwargs)"
   ]
  },
  {
   "cell_type": "code",
   "execution_count": 3,
   "id": "889e15fa",
   "metadata": {},
   "outputs": [
    {
     "name": "stdout",
     "output_type": "stream",
     "text": [
      "{'m': 0.0, 'M1': 0.0, 'M2': 0.0, 'M3': 0.0, 'delta': 0.0, 'a21': 0.0, 'a31': 0.0, 'x1': 0.0, 'x2': 0.0, 'x3': 0.0, 'y1': 0.0, 'y2': 0.0, 'y3': 0.0, 't12': 0.0, 't13': 0.0, 't23': 0.0, 'gs': -0.09691001300805639, 'fpi': 4.778151250383644, 'kappa': 0.0, 'eQ': -0.3010299956639812, 'bsmall': -2.1783911100697213, 'sQsq': -0.5228787452803376}\n"
     ]
    }
   ],
   "source": [
    "#-- Define input variables (powers) --#\n",
    "\n",
    "# Note that there are 16 extra parameters necessary for interfacing with ulysses\n",
    "# We set these all to have a power of zero\n",
    "kwargs_pow = {  \"m\":0.000000,  \"M1\":0.000000, \"M2\":0.000000,  \"M3\":0.000000, \"delta\":0.000000,\n",
    "              \"a21\":0.000000, \"a31\":0.000000, \"x1\":0.000000,  \"x2\":0.000000,    \"x3\":0.000000,\n",
    "              \"y1\":0.000000,   \"y2\":0.000000, \"y3\":0.000000, \"t12\":0.000000,   \"t13\":0.000000,\n",
    "              \"t23\":0.000000}\n",
    "\n",
    "# Scan parameters\n",
    "kwargs_pow[\"gs\"]     = np.log10(kwargs[\"gs\"])\n",
    "kwargs_pow[\"fpi\"]    = np.log10(kwargs[\"fpi\"])\n",
    "kwargs_pow[\"kappa\"]  = np.log10(kwargs[\"kappa\"])\n",
    "kwargs_pow[\"eQ\"]     = np.log10(kwargs[\"eQ\"])\n",
    "kwargs_pow[\"bsmall\"] = np.log10(kwargs[\"bsmall\"])\n",
    "kwargs_pow[\"sQsq\"]   = np.log10(kwargs[\"sQsq\"])\n",
    "\n",
    "print(kwargs_pow)"
   ]
  },
  {
   "cell_type": "markdown",
   "id": "79ab32eb",
   "metadata": {},
   "source": [
    "# Calculate with omegaH2.py"
   ]
  },
  {
   "cell_type": "code",
   "execution_count": 4,
   "id": "93489d61",
   "metadata": {},
   "outputs": [
    {
     "name": "stdout",
     "output_type": "stream",
     "text": [
      "oh2  =  0.1001053678842274 5.390028794795367\n",
      "TIME =  10.031913\n",
      "\n",
      "m1, aeff  =  771570.1602976598 (1.8923857077963512e-11+0j)\n",
      "TIME      =  0.0737590000000008\n",
      "\n"
     ]
    }
   ],
   "source": [
    "#-- Ngen=1 --#\n",
    "kwargs[\"Ngen\"]   = 1\n",
    "\n",
    "#-- Calculate oh2 and therm values --#\n",
    "from omegaH2 import omegaH2\n",
    "start = time.process_time()\n",
    "oh2, therm = omegaH2(**kwargs, DEBUG=False)\n",
    "end   = time.process_time()\n",
    "print(\"oh2  = \", oh2, therm)\n",
    "print(\"TIME = \", end - start)\n",
    "print(\"\")\n",
    "\n",
    "#-- Calculate m1 and aeff values (demonstration of RETURN option) --#\n",
    "start = time.process_time()\n",
    "m1, aeff = omegaH2(**kwargs, DEBUG=False, RETURN='m1_aeff')\n",
    "end   = time.process_time()\n",
    "print(\"m1, aeff  = \", m1, aeff)\n",
    "print(\"TIME      = \", end - start)\n",
    "print(\"\")\n"
   ]
  },
  {
   "cell_type": "code",
   "execution_count": 5,
   "id": "2cb1ddbd",
   "metadata": {},
   "outputs": [
    {
     "name": "stdout",
     "output_type": "stream",
     "text": [
      "oh2  =  0.07767697146334929 4.1824042179652485\n",
      "TIME =  110.69514\n",
      "\n",
      "m1, aeff  =  771570.1602976598 (2.471915617766557e-11+0j)\n",
      "TIME      =  96.61069499999999\n",
      "\n"
     ]
    }
   ],
   "source": [
    "#-- Ngen=3 --#\n",
    "kwargs[\"Ngen\"]   = 3\n",
    "\n",
    "#-- Calculate oh2 and therm values --#\n",
    "from omegaH2 import omegaH2\n",
    "start = time.process_time()\n",
    "oh2, therm = omegaH2(**kwargs, DEBUG=False)\n",
    "end   = time.process_time()\n",
    "print(\"oh2  = \", oh2, therm)\n",
    "print(\"TIME = \", end - start)\n",
    "print(\"\")\n",
    "\n",
    "#-- Calculate m1 and aeff values (demonstration of RETURN option) --#\n",
    "start = time.process_time()\n",
    "m1, aeff = omegaH2(**kwargs, DEBUG=False, RETURN='m1_aeff')\n",
    "end   = time.process_time()\n",
    "print(\"m1, aeff  = \", m1, aeff)\n",
    "print(\"TIME      = \", end - start)\n",
    "print(\"\")"
   ]
  },
  {
   "cell_type": "markdown",
   "id": "1f51e4cb",
   "metadata": {},
   "source": [
    "# Calculate with SU2LDM class defined in omegaH2_ulysses.py"
   ]
  },
  {
   "cell_type": "markdown",
   "id": "e8931315",
   "metadata": {},
   "source": [
    "NOTE: Ngen argument must be changed in the omegaH2_ulysses.py file and the kernel must be restarted. Run cells 1-3, and then run the cell below. #! Fix this"
   ]
  },
  {
   "cell_type": "code",
   "execution_count": null,
   "id": "86174a50",
   "metadata": {},
   "outputs": [],
   "source": [
    "from omegaH2_ulysses import SU2LDM\n",
    "\n",
    "start = time.process_time()\n",
    "objectSU2LDM = SU2LDM()\n",
    "objectSU2LDM.setParams(pdict=kwargs_pow)\n",
    "oh2 = objectSU2LDM.EtaB #EtaB is treated like a property of the class not a function\n",
    "end   = time.process_time()\n",
    "print(\"oh2  = \", oh2)\n",
    "print(\"TIME = \", end - start)"
   ]
  },
  {
   "cell_type": "code",
   "execution_count": null,
   "id": "04e0b7fd",
   "metadata": {},
   "outputs": [],
   "source": [
    "#-- Ngen=1 Result --#"
   ]
  },
  {
   "cell_type": "code",
   "execution_count": null,
   "id": "9db7a7e0",
   "metadata": {},
   "outputs": [],
   "source": [
    "#-- Ngen=3 Result --#"
   ]
  },
  {
   "cell_type": "code",
   "execution_count": null,
   "id": "b98c080d",
   "metadata": {},
   "outputs": [],
   "source": []
  }
 ],
 "metadata": {
  "kernelspec": {
   "display_name": "Python 3",
   "language": "python",
   "name": "python3"
  },
  "language_info": {
   "codemirror_mode": {
    "name": "ipython",
    "version": 3
   },
   "file_extension": ".py",
   "mimetype": "text/x-python",
   "name": "python",
   "nbconvert_exporter": "python",
   "pygments_lexer": "ipython3",
   "version": "3.6.12"
  }
 },
 "nbformat": 4,
 "nbformat_minor": 5
}
