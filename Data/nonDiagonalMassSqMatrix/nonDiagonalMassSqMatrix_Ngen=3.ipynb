{
 "cells": [
  {
   "cell_type": "code",
   "execution_count": 1,
   "id": "29dc7ce0",
   "metadata": {},
   "outputs": [],
   "source": [
    "import numpy as np"
   ]
  },
  {
   "cell_type": "markdown",
   "id": "81abca39",
   "metadata": {},
   "source": [
    "This notebook takes information from Mathematica code about the location of non-zero entries in the (non-diagonal) mass matrix for the Ngen=3 case."
   ]
  },
  {
   "cell_type": "markdown",
   "id": "576a93bd",
   "metadata": {},
   "source": [
    "massSq_nonDiagonal_Ngen3_BP1.txt\n",
    "massSq_nonDiagonal_Ngen3_BP2.txt"
   ]
  },
  {
   "cell_type": "markdown",
   "id": "e1718a19",
   "metadata": {},
   "source": [
    "# Functions used in this notebook"
   ]
  },
  {
   "cell_type": "code",
   "execution_count": 2,
   "id": "7d554d57",
   "metadata": {},
   "outputs": [],
   "source": [
    "def removeExtraneousChars(sparse_data):\n",
    "    # The first column entries of sparse_data take the form: {#\n",
    "    # The third column entries of sparse_data take the form: \"#\"}\n",
    "    # We want to convert these in the following way:\n",
    "    # {#   -> # i.e. we want characters 1 through the end  [1:]\n",
    "    # \"#\"} -> # i.e. we want characters 1 through end-2    [1:-2]\n",
    "    \n",
    "    for row in range(sparse_data.shape[0]):\n",
    "        # Remove { from left side of first column entry, replace value\n",
    "        sparse_data[row,0] = sparse_data[row,0][1:]\n",
    "        \n",
    "        # Remove \" from left side and \"} from right side of last column entry, replace value\n",
    "        sparse_data[row,2] = sparse_data[row,2][1:-2]\n",
    "        \n",
    "    return sparse_data"
   ]
  },
  {
   "cell_type": "code",
   "execution_count": 3,
   "id": "274e9926",
   "metadata": {},
   "outputs": [],
   "source": [
    "def getUniqueVals(sparse_data):\n",
    "    # Get uniquely occurring values in sparse_data\n",
    "    \n",
    "    uniqueVals = []\n",
    "    for row in range(sparse_data.shape[0]):\n",
    "    \n",
    "        # Get value\n",
    "        val = sparse_data[row,2]\n",
    "        \n",
    "        # Check if value is unique\n",
    "        if val in uniqueVals:\n",
    "            continue\n",
    "        else:\n",
    "            uniqueVals.append(val)\n",
    "    \n",
    "    return uniqueVals"
   ]
  },
  {
   "cell_type": "code",
   "execution_count": 4,
   "id": "de6391bd",
   "metadata": {},
   "outputs": [],
   "source": [
    "def findIndicesofUVs(uniqueVals):\n",
    "    gIndex = []\n",
    "\n",
    "    for uVal in uniqueVals:\n",
    "        index = []\n",
    "\n",
    "        for i in range(sparse_data.shape[0]):\n",
    "            val = sparse_data[i,2]\n",
    "\n",
    "            if(uVal == val):\n",
    "                index.append([int(float(sparse_data[i,0])), int(float(sparse_data[i,1]))])\n",
    "        gIndex.append(index)\n",
    "    \n",
    "    return gIndex"
   ]
  },
  {
   "cell_type": "markdown",
   "id": "defd893b",
   "metadata": {},
   "source": [
    "# Unique Values for BP1"
   ]
  },
  {
   "cell_type": "code",
   "execution_count": 5,
   "id": "2685f3ba",
   "metadata": {},
   "outputs": [
    {
     "name": "stdout",
     "output_type": "stream",
     "text": [
      "(nrows, ncols):  (103, 3)\n",
      "\n",
      "['{1' '1'\n",
      " '\"( 896 * ( f )**( 2 ) * ( numpy.pi )**( 2 ) + 128/7 * f * MD * ( numpy.pi )**( 3 ) )\"}']\n",
      "['{1' '91' '\"-128/7 * ( 6 )**( 1/2 ) * f * MD * ( numpy.pi )**( 3 )\"}']\n",
      "['{2' '2' '\"0.12944e1 * ( f )**( 2 )\"}']\n",
      "['{3' '3' '\"0.12944e1 * ( f )**( 2 )\"}']\n",
      "['{4' '4' '\"0.12944e1 * ( f )**( 2 )\"}']\n"
     ]
    }
   ],
   "source": [
    "#-- Open txt data file --#\n",
    "\n",
    "# This file contains the value and locations of the non-zero entries of the mass matrix for Ngen=3 and the above BP\n",
    "# The format is: {row index, column index, \"value\"} with indices in Mathematica notation (i.e. starting at 1, not 0)\n",
    "\n",
    "raw_sparse_data = np.loadtxt('massSq_nonDiagonal_Ngen3_BP1.txt',dtype='str', delimiter=', ')\n",
    "\n",
    "#-- Print first rows to check parsing --#\n",
    "print(\"(nrows, ncols): \",raw_sparse_data.shape)\n",
    "print(\"\")\n",
    "for i in range(5):\n",
    "    print(raw_sparse_data[i,:])"
   ]
  },
  {
   "cell_type": "code",
   "execution_count": 6,
   "id": "07d9904e",
   "metadata": {},
   "outputs": [
    {
     "name": "stdout",
     "output_type": "stream",
     "text": [
      "(nrows, ncols):  (103, 3)\n",
      "\n",
      "['1' '1'\n",
      " '( 896 * ( f )**( 2 ) * ( numpy.pi )**( 2 ) + 128/7 * f * MD * ( numpy.pi )**( 3 ) )']\n",
      "['1' '91' '-128/7 * ( 6 )**( 1/2 ) * f * MD * ( numpy.pi )**( 3 )']\n",
      "['2' '2' '0.12944e1 * ( f )**( 2 )']\n",
      "['3' '3' '0.12944e1 * ( f )**( 2 )']\n",
      "['4' '4' '0.12944e1 * ( f )**( 2 )']\n"
     ]
    }
   ],
   "source": [
    "#-- Trim off extraneous characters --#\n",
    "sparse_data = removeExtraneousChars(raw_sparse_data)\n",
    "\n",
    "#-- Print first rows to check parsing --#\n",
    "print(\"(nrows, ncols): \",sparse_data.shape)\n",
    "print(\"\")\n",
    "for i in range(5):\n",
    "    print(sparse_data[i,:])"
   ]
  },
  {
   "cell_type": "code",
   "execution_count": 7,
   "id": "4c0004e2",
   "metadata": {},
   "outputs": [
    {
     "name": "stdout",
     "output_type": "stream",
     "text": [
      "number of unique values:  12\n",
      "\n",
      "uV1:  ( 896 * ( f )**( 2 ) * ( numpy.pi )**( 2 ) + 128/7 * f * MD * ( numpy.pi )**( 3 ) )\n",
      "uV2:  -128/7 * ( 6 )**( 1/2 ) * f * MD * ( numpy.pi )**( 3 )\n",
      "uV3:  0.12944e1 * ( f )**( 2 )\n",
      "uV4:  0.706493e0 * ( f )**( 2 )\n",
      "uV5:  0.654401e0 * ( f )**( 2 )\n",
      "uV6:  0.64e0 * ( f )**( 2 )\n",
      "uV7:  (-0.64e0) * ( f )**( 2 )\n",
      "uV8:  64 * f * MD * ( numpy.pi )**( 3 )\n",
      "uV9:  ( 0.390937e0 * ( f )**( 2 ) + 64 * f * MD * ( numpy.pi )**( 3 ) )\n",
      "uV10:  0.256e1 * ( f )**( 2 )\n",
      "uV11:  ( 0.978845e0 * ( f )**( 2 ) + 64 * f * MD * ( numpy.pi )**( 3 ) )\n",
      "uV12:  768/7 * f * MD * ( numpy.pi )**( 3 )\n"
     ]
    }
   ],
   "source": [
    "#-- Get unique values --#\n",
    "uniqueVals = getUniqueVals(sparse_data)\n",
    "\n",
    "#-- Print unique values --#\n",
    "print(\"number of unique values: \", len(uniqueVals))\n",
    "print(\"\")\n",
    "i=1\n",
    "for val in uniqueVals:\n",
    "    print(\"uV%d:  %s\"%(i,val))\n",
    "    i+=1"
   ]
  },
  {
   "cell_type": "markdown",
   "id": "b56abb89",
   "metadata": {},
   "source": [
    "Convert these unique values by hand to the following code-worthy unique values"
   ]
  },
  {
   "cell_type": "code",
   "execution_count": 8,
   "id": "aa74f0de",
   "metadata": {},
   "outputs": [],
   "source": [
    "#-- Coded versions of these unique values --#\n",
    "# Use these in calcPionMassSq.py\n",
    "\n",
    "# uV1  = 896.*(np.pi**2)*(f**2) + (128./7.)*(np.pi**3)*f*MD\n",
    "# uV2  = -(128./7.)*(6**(1./2.))*(np.pi**3)*f*MD\n",
    "# uV3  = 1.2944*(f**2)\n",
    "# uV4  = 0.706493*(f**2)\n",
    "# uV5  = 0.654401*(f**2)\n",
    "# uV6  = 0.64*(f**2)\n",
    "# uV7  = -0.64*(f**2)\n",
    "# uV8  = 64.*(np.pi**3)*f*MD\n",
    "# uV9  = 0.390937*(f**2) + 64.*(np.pi**3)*f*MD\n",
    "# uV10 = 2.56*(f**2)\n",
    "# uV11 = 0.978845*(f**2) + 64.*(np.pi**3)*f*MD\n",
    "# uV12 = (768./7.)*(np.pi**3)*f*MD"
   ]
  },
  {
   "cell_type": "code",
   "execution_count": 9,
   "id": "161e13af",
   "metadata": {},
   "outputs": [
    {
     "name": "stdout",
     "output_type": "stream",
     "text": [
      "[[[1, 1]], [[1, 91], [91, 1]], [[2, 2], [3, 3], [4, 4], [5, 5], [46, 46], [47, 47], [48, 48], [49, 49], [74, 74], [75, 75], [76, 76], [77, 77]], [[7, 7], [8, 8], [15, 15], [16, 16], [51, 51], [52, 52]], [[10, 10], [11, 11], [12, 12], [13, 13], [18, 18], [19, 19], [20, 20], [21, 21], [26, 26], [27, 27], [28, 28], [29, 29], [34, 34], [35, 35], [36, 36], [37, 37], [54, 54], [55, 55], [56, 56], [57, 57], [62, 62], [63, 63], [64, 64], [65, 65]], [[10, 26], [18, 34], [26, 10], [34, 18], [54, 62], [62, 54]], [[11, 27], [12, 28], [13, 29], [19, 35], [20, 36], [21, 37], [27, 11], [28, 12], [29, 13], [35, 19], [36, 20], [37, 21], [55, 63], [56, 64], [57, 65], [63, 55], [64, 56], [65, 57]], [[22, 22], [25, 25], [58, 58], [61, 61], [78, 78], [81, 81]], [[23, 23], [24, 24], [59, 59], [60, 60], [79, 79], [80, 80]], [[31, 31], [32, 32], [33, 33], [39, 39], [40, 40], [41, 41], [67, 67], [68, 68], [69, 69]], [[42, 42], [43, 43], [44, 44], [45, 45], [70, 70], [71, 71], [72, 72], [73, 73], [82, 82], [83, 83], [84, 84], [85, 85]], [[91, 91]]]\n"
     ]
    }
   ],
   "source": [
    "#-- Find the indices of each occurrance of a unique value --#\n",
    "gIndex = findIndicesofUVs(uniqueVals)\n",
    "\n",
    "#-- Print this out and use this result in calcPionMassSq.py --#\n",
    "print(gIndex)"
   ]
  },
  {
   "cell_type": "code",
   "execution_count": 10,
   "id": "770867ec",
   "metadata": {},
   "outputs": [
    {
     "name": "stdout",
     "output_type": "stream",
     "text": [
      "uniqueVal 1\n",
      "[[1, 1]]\n",
      "\n",
      "uniqueVal 2\n",
      "[[1, 91], [91, 1]]\n",
      "\n",
      "uniqueVal 3\n",
      "[[2, 2], [3, 3], [4, 4], [5, 5], [46, 46], [47, 47], [48, 48], [49, 49], [74, 74], [75, 75], [76, 76], [77, 77]]\n",
      "\n",
      "uniqueVal 4\n",
      "[[7, 7], [8, 8], [15, 15], [16, 16], [51, 51], [52, 52]]\n",
      "\n",
      "uniqueVal 5\n",
      "[[10, 10], [11, 11], [12, 12], [13, 13], [18, 18], [19, 19], [20, 20], [21, 21], [26, 26], [27, 27], [28, 28], [29, 29], [34, 34], [35, 35], [36, 36], [37, 37], [54, 54], [55, 55], [56, 56], [57, 57], [62, 62], [63, 63], [64, 64], [65, 65]]\n",
      "\n",
      "uniqueVal 6\n",
      "[[10, 26], [18, 34], [26, 10], [34, 18], [54, 62], [62, 54]]\n",
      "\n",
      "uniqueVal 7\n",
      "[[11, 27], [12, 28], [13, 29], [19, 35], [20, 36], [21, 37], [27, 11], [28, 12], [29, 13], [35, 19], [36, 20], [37, 21], [55, 63], [56, 64], [57, 65], [63, 55], [64, 56], [65, 57]]\n",
      "\n",
      "uniqueVal 8\n",
      "[[22, 22], [25, 25], [58, 58], [61, 61], [78, 78], [81, 81]]\n",
      "\n",
      "uniqueVal 9\n",
      "[[23, 23], [24, 24], [59, 59], [60, 60], [79, 79], [80, 80]]\n",
      "\n",
      "uniqueVal 10\n",
      "[[31, 31], [32, 32], [33, 33], [39, 39], [40, 40], [41, 41], [67, 67], [68, 68], [69, 69]]\n",
      "\n",
      "uniqueVal 11\n",
      "[[42, 42], [43, 43], [44, 44], [45, 45], [70, 70], [71, 71], [72, 72], [73, 73], [82, 82], [83, 83], [84, 84], [85, 85]]\n",
      "\n",
      "uniqueVal 12\n",
      "[[91, 91]]\n",
      "\n"
     ]
    }
   ],
   "source": [
    "#-- For a more interpretable version --#\n",
    "for i in range(len(uniqueVals)):\n",
    "    print(\"uniqueVal %d\"%(i+1))\n",
    "    print(gIndex[i])\n",
    "    print(\"\")"
   ]
  },
  {
   "cell_type": "markdown",
   "id": "5400f687",
   "metadata": {},
   "source": [
    "# Unique Values for BP2"
   ]
  },
  {
   "cell_type": "code",
   "execution_count": 11,
   "id": "a57157ad",
   "metadata": {},
   "outputs": [
    {
     "name": "stdout",
     "output_type": "stream",
     "text": [
      "(nrows, ncols):  (103, 3)\n",
      "\n",
      "['{1' '1'\n",
      " '\"( 896 * ( f )**( 2 ) * ( numpy.pi )**( 2 ) + 128/7 * f * MD * ( numpy.pi )**( 3 ) )\"}']\n",
      "['{1' '91' '\"-128/7 * ( 6 )**( 1/2 ) * f * MD * ( numpy.pi )**( 3 )\"}']\n",
      "['{2' '2' '\"0.200982e-1 * ( f )**( 2 )\"}']\n",
      "['{3' '3' '\"0.200982e-1 * ( f )**( 2 )\"}']\n",
      "['{4' '4' '\"0.200982e-1 * ( f )**( 2 )\"}']\n"
     ]
    }
   ],
   "source": [
    "#-- Open txt data file --#\n",
    "\n",
    "# This file contains the value and locations of the non-zero entries of the mass matrix for Ngen=3 and the above BP\n",
    "# The format is: {row index, column index, \"value\"} with indices in Mathematica notation (i.e. starting at 1, not 0)\n",
    "\n",
    "raw_sparse_data = np.loadtxt('massSq_nonDiagonal_Ngen3_BP2.txt',dtype='str', delimiter=', ')\n",
    "\n",
    "#-- Print first rows to check parsing --#\n",
    "print(\"(nrows, ncols): \",raw_sparse_data.shape)\n",
    "print(\"\")\n",
    "for i in range(5):\n",
    "    print(raw_sparse_data[i,:])"
   ]
  },
  {
   "cell_type": "code",
   "execution_count": 12,
   "id": "3c0afcea",
   "metadata": {},
   "outputs": [
    {
     "name": "stdout",
     "output_type": "stream",
     "text": [
      "(nrows, ncols):  (103, 3)\n",
      "\n",
      "['1' '1'\n",
      " '( 896 * ( f )**( 2 ) * ( numpy.pi )**( 2 ) + 128/7 * f * MD * ( numpy.pi )**( 3 ) )']\n",
      "['1' '91' '-128/7 * ( 6 )**( 1/2 ) * f * MD * ( numpy.pi )**( 3 )']\n",
      "['2' '2' '0.200982e-1 * ( f )**( 2 )']\n",
      "['3' '3' '0.200982e-1 * ( f )**( 2 )']\n",
      "['4' '4' '0.200982e-1 * ( f )**( 2 )']\n"
     ]
    }
   ],
   "source": [
    "#-- Trim off extraneous characters --#\n",
    "sparse_data = removeExtraneousChars(raw_sparse_data)\n",
    "\n",
    "#-- Print first rows to check parsing --#\n",
    "print(\"(nrows, ncols): \",sparse_data.shape)\n",
    "print(\"\")\n",
    "for i in range(5):\n",
    "    print(sparse_data[i,:])"
   ]
  },
  {
   "cell_type": "code",
   "execution_count": 13,
   "id": "2dfac56d",
   "metadata": {},
   "outputs": [
    {
     "name": "stdout",
     "output_type": "stream",
     "text": [
      "number of unique values:  12\n",
      "\n",
      "uV1:  ( 896 * ( f )**( 2 ) * ( numpy.pi )**( 2 ) + 128/7 * f * MD * ( numpy.pi )**( 3 ) )\n",
      "uV2:  -128/7 * ( 6 )**( 1/2 ) * f * MD * ( numpy.pi )**( 3 )\n",
      "uV3:  0.200982e-1 * ( f )**( 2 )\n",
      "uV4:  0.662559e-2 * ( f )**( 2 )\n",
      "uV5:  0.100982e-1 * ( f )**( 2 )\n",
      "uV6:  0.1e-1 * ( f )**( 2 )\n",
      "uV7:  (-0.1e-1) * ( f )**( 2 )\n",
      "uV8:  64 * f * MD * ( numpy.pi )**( 3 )\n",
      "uV9:  ( 0.134011e-3 * ( f )**( 2 ) + 64 * f * MD * ( numpy.pi )**( 3 ) )\n",
      "uV10:  0.4e-1 * ( f )**( 2 )\n",
      "uV11:  ( 0.134106e-1 * ( f )**( 2 ) + 64 * f * MD * ( numpy.pi )**( 3 ) )\n",
      "uV12:  768/7 * f * MD * ( numpy.pi )**( 3 )\n"
     ]
    }
   ],
   "source": [
    "#-- Get unique values --#\n",
    "uniqueVals = getUniqueVals(sparse_data)\n",
    "\n",
    "#-- Print unique values --#\n",
    "print(\"number of unique values: \", len(uniqueVals))\n",
    "print(\"\")\n",
    "i=1\n",
    "for val in uniqueVals:\n",
    "    print(\"uV%d:  %s\"%(i,val))\n",
    "    i+=1"
   ]
  },
  {
   "cell_type": "markdown",
   "id": "892691b3",
   "metadata": {},
   "source": [
    "Convert these unique values by hand to the following code-worthy unique values"
   ]
  },
  {
   "cell_type": "code",
   "execution_count": 14,
   "id": "ed1ebb9c",
   "metadata": {},
   "outputs": [],
   "source": [
    "#-- Coded versions of these unique values --#\n",
    "# Use these in calcPionMassSq.py\n",
    "\n",
    "# uV1  = 896.*(np.pi**2)*(f**2) + (128./7.)*(np.pi**3)*f*MD\n",
    "# uV2  = -(128./7.)*(6**(1./2.))*(np.pi**3)*f*MD\n",
    "# uV3  = 0.200982e-1*(f**2)\n",
    "# uV4  = 0.662559e-2*(f**2)\n",
    "# uV5  = 0.100982e-1*(f**2)\n",
    "# uV6  = 0.1e-1*(f**2)\n",
    "# uV7  = -0.1e-1*(f**2)\n",
    "# uV8  = 64.*(np.pi**3)*f*MD\n",
    "# uV9  = 0.134011e-3*(f**2) + 64.*(np.pi**3)*f*MD\n",
    "# uV10 = 0.4e-1*(f**2)\n",
    "# uV11 = 0.134106e-1*(f**2) + 64.*(np.pi**3)*f*MD\n",
    "# uV12 = (768./7.)*(np.pi**3)*f*MD"
   ]
  },
  {
   "cell_type": "code",
   "execution_count": 15,
   "id": "00fb930f",
   "metadata": {},
   "outputs": [
    {
     "name": "stdout",
     "output_type": "stream",
     "text": [
      "[[[1, 1]], [[1, 91], [91, 1]], [[2, 2], [3, 3], [4, 4], [5, 5], [46, 46], [47, 47], [48, 48], [49, 49], [74, 74], [75, 75], [76, 76], [77, 77]], [[7, 7], [8, 8], [15, 15], [16, 16], [51, 51], [52, 52]], [[10, 10], [11, 11], [12, 12], [13, 13], [18, 18], [19, 19], [20, 20], [21, 21], [26, 26], [27, 27], [28, 28], [29, 29], [34, 34], [35, 35], [36, 36], [37, 37], [54, 54], [55, 55], [56, 56], [57, 57], [62, 62], [63, 63], [64, 64], [65, 65]], [[10, 26], [18, 34], [26, 10], [34, 18], [54, 62], [62, 54]], [[11, 27], [12, 28], [13, 29], [19, 35], [20, 36], [21, 37], [27, 11], [28, 12], [29, 13], [35, 19], [36, 20], [37, 21], [55, 63], [56, 64], [57, 65], [63, 55], [64, 56], [65, 57]], [[22, 22], [25, 25], [58, 58], [61, 61], [78, 78], [81, 81]], [[23, 23], [24, 24], [59, 59], [60, 60], [79, 79], [80, 80]], [[31, 31], [32, 32], [33, 33], [39, 39], [40, 40], [41, 41], [67, 67], [68, 68], [69, 69]], [[42, 42], [43, 43], [44, 44], [45, 45], [70, 70], [71, 71], [72, 72], [73, 73], [82, 82], [83, 83], [84, 84], [85, 85]], [[91, 91]]]\n"
     ]
    }
   ],
   "source": [
    "#-- Find the indices of each occurrance of a unique value --#\n",
    "gIndex = findIndicesofUVs(uniqueVals)\n",
    "\n",
    "#-- Print this out and use this result in calcPionMassSq.py --#\n",
    "print(gIndex)"
   ]
  },
  {
   "cell_type": "code",
   "execution_count": 16,
   "id": "491147ce",
   "metadata": {},
   "outputs": [
    {
     "name": "stdout",
     "output_type": "stream",
     "text": [
      "uniqueVal 1\n",
      "[[1, 1]]\n",
      "\n",
      "uniqueVal 2\n",
      "[[1, 91], [91, 1]]\n",
      "\n",
      "uniqueVal 3\n",
      "[[2, 2], [3, 3], [4, 4], [5, 5], [46, 46], [47, 47], [48, 48], [49, 49], [74, 74], [75, 75], [76, 76], [77, 77]]\n",
      "\n",
      "uniqueVal 4\n",
      "[[7, 7], [8, 8], [15, 15], [16, 16], [51, 51], [52, 52]]\n",
      "\n",
      "uniqueVal 5\n",
      "[[10, 10], [11, 11], [12, 12], [13, 13], [18, 18], [19, 19], [20, 20], [21, 21], [26, 26], [27, 27], [28, 28], [29, 29], [34, 34], [35, 35], [36, 36], [37, 37], [54, 54], [55, 55], [56, 56], [57, 57], [62, 62], [63, 63], [64, 64], [65, 65]]\n",
      "\n",
      "uniqueVal 6\n",
      "[[10, 26], [18, 34], [26, 10], [34, 18], [54, 62], [62, 54]]\n",
      "\n",
      "uniqueVal 7\n",
      "[[11, 27], [12, 28], [13, 29], [19, 35], [20, 36], [21, 37], [27, 11], [28, 12], [29, 13], [35, 19], [36, 20], [37, 21], [55, 63], [56, 64], [57, 65], [63, 55], [64, 56], [65, 57]]\n",
      "\n",
      "uniqueVal 8\n",
      "[[22, 22], [25, 25], [58, 58], [61, 61], [78, 78], [81, 81]]\n",
      "\n",
      "uniqueVal 9\n",
      "[[23, 23], [24, 24], [59, 59], [60, 60], [79, 79], [80, 80]]\n",
      "\n",
      "uniqueVal 10\n",
      "[[31, 31], [32, 32], [33, 33], [39, 39], [40, 40], [41, 41], [67, 67], [68, 68], [69, 69]]\n",
      "\n",
      "uniqueVal 11\n",
      "[[42, 42], [43, 43], [44, 44], [45, 45], [70, 70], [71, 71], [72, 72], [73, 73], [82, 82], [83, 83], [84, 84], [85, 85]]\n",
      "\n",
      "uniqueVal 12\n",
      "[[91, 91]]\n",
      "\n"
     ]
    }
   ],
   "source": [
    "#-- For a more interpretable version --#\n",
    "for i in range(len(uniqueVals)):\n",
    "    print(\"uniqueVal %d\"%(i+1))\n",
    "    print(gIndex[i])\n",
    "    print(\"\")"
   ]
  },
  {
   "cell_type": "code",
   "execution_count": null,
   "id": "e08b1940",
   "metadata": {},
   "outputs": [],
   "source": []
  }
 ],
 "metadata": {
  "kernelspec": {
   "display_name": "Python 3",
   "language": "python",
   "name": "python3"
  },
  "language_info": {
   "codemirror_mode": {
    "name": "ipython",
    "version": 3
   },
   "file_extension": ".py",
   "mimetype": "text/x-python",
   "name": "python",
   "nbconvert_exporter": "python",
   "pygments_lexer": "ipython3",
   "version": "3.6.12"
  }
 },
 "nbformat": 4,
 "nbformat_minor": 5
}
